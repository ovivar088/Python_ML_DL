{
 "cells": [
  {
   "cell_type": "markdown",
   "id": "a335c15f-35ee-420f-a1db-9f16967bee1e",
   "metadata": {},
   "source": [
    "Deep Learning Regression Model - Concrete Strength"
   ]
  },
  {
   "cell_type": "code",
   "execution_count": 1,
   "id": "acd82ff2-af96-4a83-b986-82be6839b589",
   "metadata": {},
   "outputs": [
    {
     "name": "stderr",
     "output_type": "stream",
     "text": [
      "Using TensorFlow backend.\n",
      "/home/jupyterlab/conda/envs/python/lib/python3.7/site-packages/tensorflow/python/framework/dtypes.py:516: FutureWarning: Passing (type, 1) or '1type' as a synonym of type is deprecated; in a future version of numpy, it will be understood as (type, (1,)) / '(1,)type'.\n",
      "  _np_qint8 = np.dtype([(\"qint8\", np.int8, 1)])\n",
      "/home/jupyterlab/conda/envs/python/lib/python3.7/site-packages/tensorflow/python/framework/dtypes.py:517: FutureWarning: Passing (type, 1) or '1type' as a synonym of type is deprecated; in a future version of numpy, it will be understood as (type, (1,)) / '(1,)type'.\n",
      "  _np_quint8 = np.dtype([(\"quint8\", np.uint8, 1)])\n",
      "/home/jupyterlab/conda/envs/python/lib/python3.7/site-packages/tensorflow/python/framework/dtypes.py:518: FutureWarning: Passing (type, 1) or '1type' as a synonym of type is deprecated; in a future version of numpy, it will be understood as (type, (1,)) / '(1,)type'.\n",
      "  _np_qint16 = np.dtype([(\"qint16\", np.int16, 1)])\n",
      "/home/jupyterlab/conda/envs/python/lib/python3.7/site-packages/tensorflow/python/framework/dtypes.py:519: FutureWarning: Passing (type, 1) or '1type' as a synonym of type is deprecated; in a future version of numpy, it will be understood as (type, (1,)) / '(1,)type'.\n",
      "  _np_quint16 = np.dtype([(\"quint16\", np.uint16, 1)])\n",
      "/home/jupyterlab/conda/envs/python/lib/python3.7/site-packages/tensorflow/python/framework/dtypes.py:520: FutureWarning: Passing (type, 1) or '1type' as a synonym of type is deprecated; in a future version of numpy, it will be understood as (type, (1,)) / '(1,)type'.\n",
      "  _np_qint32 = np.dtype([(\"qint32\", np.int32, 1)])\n",
      "/home/jupyterlab/conda/envs/python/lib/python3.7/site-packages/tensorflow/python/framework/dtypes.py:525: FutureWarning: Passing (type, 1) or '1type' as a synonym of type is deprecated; in a future version of numpy, it will be understood as (type, (1,)) / '(1,)type'.\n",
      "  np_resource = np.dtype([(\"resource\", np.ubyte, 1)])\n",
      "/home/jupyterlab/conda/envs/python/lib/python3.7/site-packages/tensorboard/compat/tensorflow_stub/dtypes.py:541: FutureWarning: Passing (type, 1) or '1type' as a synonym of type is deprecated; in a future version of numpy, it will be understood as (type, (1,)) / '(1,)type'.\n",
      "  _np_qint8 = np.dtype([(\"qint8\", np.int8, 1)])\n",
      "/home/jupyterlab/conda/envs/python/lib/python3.7/site-packages/tensorboard/compat/tensorflow_stub/dtypes.py:542: FutureWarning: Passing (type, 1) or '1type' as a synonym of type is deprecated; in a future version of numpy, it will be understood as (type, (1,)) / '(1,)type'.\n",
      "  _np_quint8 = np.dtype([(\"quint8\", np.uint8, 1)])\n",
      "/home/jupyterlab/conda/envs/python/lib/python3.7/site-packages/tensorboard/compat/tensorflow_stub/dtypes.py:543: FutureWarning: Passing (type, 1) or '1type' as a synonym of type is deprecated; in a future version of numpy, it will be understood as (type, (1,)) / '(1,)type'.\n",
      "  _np_qint16 = np.dtype([(\"qint16\", np.int16, 1)])\n",
      "/home/jupyterlab/conda/envs/python/lib/python3.7/site-packages/tensorboard/compat/tensorflow_stub/dtypes.py:544: FutureWarning: Passing (type, 1) or '1type' as a synonym of type is deprecated; in a future version of numpy, it will be understood as (type, (1,)) / '(1,)type'.\n",
      "  _np_quint16 = np.dtype([(\"quint16\", np.uint16, 1)])\n",
      "/home/jupyterlab/conda/envs/python/lib/python3.7/site-packages/tensorboard/compat/tensorflow_stub/dtypes.py:545: FutureWarning: Passing (type, 1) or '1type' as a synonym of type is deprecated; in a future version of numpy, it will be understood as (type, (1,)) / '(1,)type'.\n",
      "  _np_qint32 = np.dtype([(\"qint32\", np.int32, 1)])\n",
      "/home/jupyterlab/conda/envs/python/lib/python3.7/site-packages/tensorboard/compat/tensorflow_stub/dtypes.py:550: FutureWarning: Passing (type, 1) or '1type' as a synonym of type is deprecated; in a future version of numpy, it will be understood as (type, (1,)) / '(1,)type'.\n",
      "  np_resource = np.dtype([(\"resource\", np.ubyte, 1)])\n"
     ]
    }
   ],
   "source": [
    "import keras \n",
    "import pandas as pd\n",
    "import numpy as np"
   ]
  },
  {
   "cell_type": "code",
   "execution_count": 2,
   "id": "e5e35e7d-2d28-4e66-91fd-a26b0b95725c",
   "metadata": {},
   "outputs": [
    {
     "name": "stderr",
     "output_type": "stream",
     "text": [
      "/home/jupyterlab/conda/envs/python/lib/python3.7/site-packages/ipykernel_launcher.py:6: FutureWarning: In a future version of pandas all arguments of DataFrame.drop except for the argument 'labels' will be keyword-only\n",
      "  \n"
     ]
    }
   ],
   "source": [
    "#import the data file\n",
    "concrete_data = pd.read_csv('https://s3-api.us-geo.objectstorage.softlayer.net/cf-courses-data/CognitiveClass/DL0101EN/labs/data/concrete_data.csv')\n",
    "concrete_data.head()\n",
    "\n",
    "#Seperate data into predictors and target\n",
    "features = concrete_data.drop('Strength',1) #remove Strength column\n",
    "\n",
    "target = concrete_data['Strength']  #target = Strength\n",
    "\n",
    "#print(target)\n",
    "[Num_entries,Num_predictors] = features.shape"
   ]
  },
  {
   "cell_type": "markdown",
   "id": "bbbaf1f3-c2de-416a-82ad-ec2a88edeb9b",
   "metadata": {},
   "source": [
    "A. Build a baseline model (5 marks) "
   ]
  },
  {
   "cell_type": "code",
   "execution_count": 4,
   "id": "07c0af6f-9f14-4e0f-bd69-1aea990e666f",
   "metadata": {},
   "outputs": [],
   "source": [
    "#Import tools to make Neural Network\n",
    "from keras.models import Sequential\n",
    "from keras.layers import Dense\n",
    "\n",
    "#regression model function\n",
    "def regression_model():\n",
    "    #Make neural network\n",
    "    model = Sequential() #NN is sequential\n",
    "    \n",
    "    #1 hidden layer, has 10 nodes, and input layer contains # of predictors\n",
    "    model.add(Dense(10, activation = 'relu', input_shape = (Num_predictors,)))\n",
    "    model.add(Dense(1)) #singular output neuron\n",
    "    #Compile Model\n",
    "    model.compile(optimizer = 'adam', loss = 'mean_squared_error')\n",
    "    return model\n",
    "\n",
    "#make the model\n",
    "model = regression_model()\n"
   ]
  },
  {
   "cell_type": "code",
   "execution_count": 5,
   "id": "93208f1e-b825-445a-bd71-69ecc3d65ad0",
   "metadata": {},
   "outputs": [
    {
     "name": "stderr",
     "output_type": "stream",
     "text": [
      "/home/jupyterlab/conda/envs/python/lib/python3.7/site-packages/sklearn/utils/validation.py:37: DeprecationWarning: distutils Version classes are deprecated. Use packaging.version instead.\n",
      "  LARGE_SPARSE_SUPPORTED = LooseVersion(scipy_version) >= '0.14.0'\n"
     ]
    }
   ],
   "source": [
    "#Train Test Split, must import Scikit\n",
    "from sklearn.model_selection import train_test_split\n",
    "\n",
    "X_train, X_test, y_train, y_test = train_test_split(features, target, test_size = 0.3, random_state = 0)\n",
    "\n"
   ]
  },
  {
   "cell_type": "code",
   "execution_count": 6,
   "id": "3422bf55-bf3e-4dd8-85c8-a3b35f575f0a",
   "metadata": {},
   "outputs": [
    {
     "name": "stdout",
     "output_type": "stream",
     "text": [
      "WARNING:tensorflow:From /home/jupyterlab/conda/envs/python/lib/python3.7/site-packages/keras/backend/tensorflow_backend.py:977: The name tf.assign_add is deprecated. Please use tf.compat.v1.assign_add instead.\n",
      "\n",
      "WARNING:tensorflow:From /home/jupyterlab/conda/envs/python/lib/python3.7/site-packages/keras/backend/tensorflow_backend.py:964: The name tf.assign is deprecated. Please use tf.compat.v1.assign instead.\n",
      "\n",
      "Epoch 1/50\n"
     ]
    },
    {
     "name": "stderr",
     "output_type": "stream",
     "text": [
      "2022-04-03 00:47:06.189629: I tensorflow/core/platform/cpu_feature_guard.cc:142] Your CPU supports instructions that this TensorFlow binary was not compiled to use: SSE4.1 SSE4.2 AVX AVX2 AVX512F FMA\n",
      "2022-04-03 00:47:06.195554: I tensorflow/core/platform/profile_utils/cpu_utils.cc:94] CPU Frequency: 2394285000 Hz\n",
      "2022-04-03 00:47:06.196406: I tensorflow/compiler/xla/service/service.cc:168] XLA service 0x55ad135e8040 executing computations on platform Host. Devices:\n",
      "2022-04-03 00:47:06.196455: I tensorflow/compiler/xla/service/service.cc:175]   StreamExecutor device (0): <undefined>, <undefined>\n",
      "2022-04-03 00:47:06.302600: W tensorflow/compiler/jit/mark_for_compilation_pass.cc:1412] (One-time warning): Not using XLA:CPU for cluster because envvar TF_XLA_FLAGS=--tf_xla_cpu_global_jit was not set.  If you want XLA:CPU, either set that envvar, or use experimental_jit_scope to enable XLA:CPU.  To confirm that XLA is active, pass --vmodule=xla_compilation_cache=1 (as a proper command-line flag, not via TF_XLA_FLAGS) or set the envvar XLA_FLAGS=--xla_hlo_profile.\n"
     ]
    },
    {
     "name": "stdout",
     "output_type": "stream",
     "text": [
      "721/721 [==============================] - 0s 459us/step - loss: 6119.0267\n",
      "Epoch 2/50\n",
      "721/721 [==============================] - 0s 110us/step - loss: 2517.8034\n",
      "Epoch 3/50\n",
      "721/721 [==============================] - 0s 103us/step - loss: 1532.5438\n",
      "Epoch 4/50\n",
      "721/721 [==============================] - 0s 87us/step - loss: 965.0430\n",
      "Epoch 5/50\n",
      "721/721 [==============================] - 0s 85us/step - loss: 652.6786\n",
      "Epoch 6/50\n",
      "721/721 [==============================] - 0s 78us/step - loss: 465.6510\n",
      "Epoch 7/50\n",
      "721/721 [==============================] - 0s 79us/step - loss: 361.7479\n",
      "Epoch 8/50\n",
      "721/721 [==============================] - 0s 65us/step - loss: 296.4796\n",
      "Epoch 9/50\n",
      "721/721 [==============================] - 0s 76us/step - loss: 259.5198\n",
      "Epoch 10/50\n",
      "721/721 [==============================] - 0s 78us/step - loss: 233.5052\n",
      "Epoch 11/50\n",
      "721/721 [==============================] - 0s 67us/step - loss: 215.5400\n",
      "Epoch 12/50\n",
      "721/721 [==============================] - 0s 72us/step - loss: 201.8074\n",
      "Epoch 13/50\n",
      "721/721 [==============================] - 0s 78us/step - loss: 196.4483\n",
      "Epoch 14/50\n",
      "721/721 [==============================] - 0s 60us/step - loss: 185.8745\n",
      "Epoch 15/50\n",
      "721/721 [==============================] - 0s 74us/step - loss: 173.8604\n",
      "Epoch 16/50\n",
      "721/721 [==============================] - 0s 61us/step - loss: 168.1951\n",
      "Epoch 17/50\n",
      "721/721 [==============================] - 0s 59us/step - loss: 161.1298\n",
      "Epoch 18/50\n",
      "721/721 [==============================] - 0s 73us/step - loss: 157.7083\n",
      "Epoch 19/50\n",
      "721/721 [==============================] - 0s 61us/step - loss: 150.9039\n",
      "Epoch 20/50\n",
      "721/721 [==============================] - 0s 74us/step - loss: 144.9054\n",
      "Epoch 21/50\n",
      "721/721 [==============================] - 0s 57us/step - loss: 141.0183\n",
      "Epoch 22/50\n",
      "721/721 [==============================] - 0s 61us/step - loss: 142.9237\n",
      "Epoch 23/50\n",
      "721/721 [==============================] - 0s 71us/step - loss: 139.1714\n",
      "Epoch 24/50\n",
      "721/721 [==============================] - 0s 56us/step - loss: 132.7712\n",
      "Epoch 25/50\n",
      "721/721 [==============================] - 0s 57us/step - loss: 129.2593\n",
      "Epoch 26/50\n",
      "721/721 [==============================] - 0s 59us/step - loss: 127.8742\n",
      "Epoch 27/50\n",
      "721/721 [==============================] - 0s 55us/step - loss: 125.2946\n",
      "Epoch 28/50\n",
      "721/721 [==============================] - 0s 71us/step - loss: 124.3665\n",
      "Epoch 29/50\n",
      "721/721 [==============================] - 0s 62us/step - loss: 121.6541\n",
      "Epoch 30/50\n",
      "721/721 [==============================] - 0s 60us/step - loss: 121.7162\n",
      "Epoch 31/50\n",
      "721/721 [==============================] - 0s 69us/step - loss: 120.6664\n",
      "Epoch 32/50\n",
      "721/721 [==============================] - 0s 58us/step - loss: 120.1471\n",
      "Epoch 33/50\n",
      "721/721 [==============================] - 0s 57us/step - loss: 116.8173\n",
      "Epoch 34/50\n",
      "721/721 [==============================] - 0s 59us/step - loss: 117.1084\n",
      "Epoch 35/50\n",
      "721/721 [==============================] - 0s 57us/step - loss: 120.2486\n",
      "Epoch 36/50\n",
      "721/721 [==============================] - 0s 58us/step - loss: 115.4096\n",
      "Epoch 37/50\n",
      "721/721 [==============================] - 0s 58us/step - loss: 116.3626\n",
      "Epoch 38/50\n",
      "721/721 [==============================] - 0s 66us/step - loss: 114.2652\n",
      "Epoch 39/50\n",
      "721/721 [==============================] - 0s 70us/step - loss: 114.8814\n",
      "Epoch 40/50\n",
      "721/721 [==============================] - 0s 55us/step - loss: 114.0367\n",
      "Epoch 41/50\n",
      "721/721 [==============================] - 0s 55us/step - loss: 115.1306\n",
      "Epoch 42/50\n",
      "721/721 [==============================] - 0s 60us/step - loss: 114.7067\n",
      "Epoch 43/50\n",
      "721/721 [==============================] - 0s 55us/step - loss: 113.0914\n",
      "Epoch 44/50\n",
      "721/721 [==============================] - 0s 56us/step - loss: 115.2480\n",
      "Epoch 45/50\n",
      "721/721 [==============================] - 0s 57us/step - loss: 120.6426\n",
      "Epoch 46/50\n",
      "721/721 [==============================] - 0s 68us/step - loss: 113.1003\n",
      "Epoch 47/50\n",
      "721/721 [==============================] - 0s 56us/step - loss: 112.6488\n",
      "Epoch 48/50\n",
      "721/721 [==============================] - 0s 57us/step - loss: 117.5622\n",
      "Epoch 49/50\n",
      "721/721 [==============================] - 0s 59us/step - loss: 114.4457\n",
      "Epoch 50/50\n",
      "721/721 [==============================] - 0s 52us/step - loss: 116.7319\n"
     ]
    },
    {
     "data": {
      "text/plain": [
       "<keras.callbacks.History at 0x7f771c6faf90>"
      ]
     },
     "execution_count": 6,
     "metadata": {},
     "output_type": "execute_result"
    }
   ],
   "source": [
    "#Use .fit function to train model\n",
    "\n",
    "#train model with 50 epochs\n",
    "\n",
    "model.fit(X_train, y_train, epochs = 50)\n"
   ]
  },
  {
   "cell_type": "code",
   "execution_count": 7,
   "id": "a4fcea2e-79ab-4704-bebe-e1bd0c32a0b0",
   "metadata": {},
   "outputs": [],
   "source": [
    "#test 50 epoch model\n",
    "test_50 = model.predict(X_test)\n"
   ]
  },
  {
   "cell_type": "code",
   "execution_count": 8,
   "id": "e5ed2caa-bbf2-423e-8516-ae15259540b7",
   "metadata": {},
   "outputs": [
    {
     "name": "stdout",
     "output_type": "stream",
     "text": [
      "Mean Squared Error of NN with 10 node hidden layer, trained for 50 epochs\n",
      "93.08489562695938\n"
     ]
    }
   ],
   "source": [
    "#Calculate MSE between predict and actual (50 epochs)\n",
    "from sklearn.metrics import mean_squared_error\n",
    "\n",
    "print(\"Mean Squared Error of NN with 10 node hidden layer, trained for 50 epochs\")\n",
    "\n",
    "MSE_50_1 = mean_squared_error(y_test, test_50)\n",
    "print(MSE_50_1)\n"
   ]
  },
  {
   "cell_type": "code",
   "execution_count": 9,
   "id": "2313e287-7181-4eb7-8b75-29438069ec6f",
   "metadata": {},
   "outputs": [],
   "source": [
    "#MAKING A LIST OF MSE, with different train_test_splits\n",
    "\n",
    "#MSE_List Function\n",
    "def MSE_maker(features, target,epochs):\n",
    "    MSE_list = []\n",
    "    for i in range(epochs):\n",
    "        draft = i\n",
    "        X_train, X_test, y_train, y_test = train_test_split(features, target, test_size = 0.3, random_state = i)\n",
    "        trained = model.fit(X_train,y_train, epochs = epochs, verbose = 0)\n",
    "        test = model.predict(X_test)\n",
    "        MSE = mean_squared_error(y_test, test)\n",
    "        MSE_list.append(MSE)\n",
    "    return MSE_list\n"
   ]
  },
  {
   "cell_type": "code",
   "execution_count": 10,
   "id": "bd453de6-9423-4e83-95da-4b826b119d4d",
   "metadata": {},
   "outputs": [
    {
     "name": "stdout",
     "output_type": "stream",
     "text": [
      "[92.52645421028323, 118.9044554503278, 104.33100600923584, 134.53091287761796, 115.01551060597927, 102.65853410609027, 124.95993590290632, 105.89671396827471, 110.61477866619612, 102.61873132641317, 99.81328005825434, 105.5748675859085, 112.31335512425443, 115.00831936903809, 103.06324413096553, 105.75143569696219, 110.3855673458728, 99.4337542217537, 92.92487674581929, 99.46698162332855, 90.55194441303621, 93.01387253238951, 96.17399254014111, 82.20101731558587, 72.31737284723124, 61.58601840198261, 64.07052089427133, 47.062161319311464, 61.32321233870544, 53.99765043525303, 55.24577575183978, 42.76649672779767, 53.50955589292316, 49.44928082361018, 47.47891615854388, 53.47789823114764, 60.715226358403555, 54.23241793238803, 50.68516928481608, 46.262152167571486, 56.744755264962244, 49.47990522747847, 48.935024269959975, 56.69868879322091, 53.46541196878221, 65.19532025197951, 52.26366114027898, 55.27149388460537, 58.6194534645726, 60.11251766745846]\n",
      "\n",
      "Length of MSE List:\n",
      "50\n"
     ]
    }
   ],
   "source": [
    "#Make MSE_List with MSE_maker function\n",
    "MSE_50 = MSE_maker(features,target,50)\n",
    "print(MSE_50)\n",
    "\n",
    "print(\"\\nLength of MSE List:\")\n",
    "print(len(MSE_50))"
   ]
  },
  {
   "cell_type": "code",
   "execution_count": 11,
   "id": "4bdb64e1-9fad-4c6b-9490-7160f79e5e45",
   "metadata": {},
   "outputs": [],
   "source": [
    "#Mean Function (of a list)\n",
    "\n",
    "def average(list):\n",
    "    average = sum(list)/len(list)\n",
    "    return average\n"
   ]
  },
  {
   "cell_type": "code",
   "execution_count": 12,
   "id": "273fcbf8-8d4f-43d1-9369-cfb46f8eb16d",
   "metadata": {},
   "outputs": [],
   "source": [
    "#Standard Deviation Function (of a list)\n",
    "def std_deviation(list):\n",
    "    total_difference = 0\n",
    "    for i in range(len(list)):\n",
    "        difference_squared = (list[i] - average(list))**2\n",
    "        total_difference += difference_squared\n",
    "    variance = total_difference/(len(list)-1)\n",
    "    standard_deviation = variance**(1/2)\n",
    "    return standard_deviation\n"
   ]
  },
  {
   "cell_type": "code",
   "execution_count": 13,
   "id": "49b468c0-995a-4b7d-a6ea-e91814e3cce4",
   "metadata": {},
   "outputs": [
    {
     "name": "stdout",
     "output_type": "stream",
     "text": [
      "MSE Mean :\n",
      "78.97399198651462\n",
      "\n",
      "MSE Standard Deviation:\n",
      "26.83919265318599\n"
     ]
    }
   ],
   "source": [
    "print(\"MSE Mean :\")\n",
    "print(average(MSE_50))\n",
    "\n",
    "print(\"\\nMSE Standard Deviation:\")\n",
    "print(std_deviation(MSE_50))\n",
    "#std_deviation is correct"
   ]
  },
  {
   "cell_type": "markdown",
   "id": "f966b4c1-3696-4f1a-b200-2469f1c70710",
   "metadata": {},
   "source": [
    "B. Normalize Data and Repeat (A)"
   ]
  },
  {
   "cell_type": "code",
   "execution_count": 14,
   "id": "895acf3f-de1c-4b04-8d42-f3812cc45824",
   "metadata": {},
   "outputs": [],
   "source": [
    "#Lets Normalize Data First\n",
    "\n",
    "#feature normalziation\n",
    "normalized_features = (features - features.mean())/features.std()\n",
    "\n",
    "#target normalization\n",
    "normalized_target = (target - target.mean())/target.std()"
   ]
  },
  {
   "cell_type": "code",
   "execution_count": 15,
   "id": "336a6122-7044-4809-a6b7-f60a03b951ec",
   "metadata": {},
   "outputs": [
    {
     "name": "stdout",
     "output_type": "stream",
     "text": [
      "[0.21942168279552304, 0.21321493007732126, 0.15460446991522203, 0.1497963921029945, 0.14782926608970848, 0.1451695799799915, 0.17500763287292906, 0.13272382902020463, 0.13357377942665258, 0.13520773921003842, 0.1347084811893862, 0.12450464775108694, 0.14974979639256392, 0.14961109554306112, 0.1223996130105302, 0.10069802574465886, 0.1086933509755454, 0.1113639597829987, 0.10500145930439665, 0.11548930203656486, 0.10079934580347083, 0.10495352625360271, 0.0991470975980361, 0.09973794364910703, 0.10315518458718044, 0.11721452948089874, 0.0966446590672583, 0.09677504860028732, 0.11655262853652422, 0.09787035030794927, 0.09848755179587487, 0.08933537242842725, 0.09271124665947592, 0.09884233775924442, 0.1048623348843633, 0.11637111512434034, 0.09545893686564515, 0.09843183863726328, 0.09817588559311999, 0.0826561756555805, 0.09866594075079285, 0.09196454376207204, 0.09982575428317775, 0.10415913261981677, 0.11156273198495317, 0.10161233674576721, 0.10788903785450966, 0.097717568432319, 0.10626893483962947, 0.10388826050497389]\n"
     ]
    }
   ],
   "source": [
    "#Data is now normalized now we can retrain the data\n",
    "#Use the MSE_Maker to make a normalized List\n",
    "MSE_Norm_50 = MSE_maker(normalized_features,normalized_target, 50)\n",
    "print(MSE_Norm_50)"
   ]
  },
  {
   "cell_type": "code",
   "execution_count": 16,
   "id": "ba6b1427-1fca-49bd-bcea-60d6d299c851",
   "metadata": {},
   "outputs": [
    {
     "name": "stdout",
     "output_type": "stream",
     "text": [
      "\n",
      "Normalized Mean, 50 epochs:\n",
      "0.1172101276857408\n",
      "\n",
      "Normalized Standard Deviation, 50 epochs:\n",
      "0.028784829887271098\n"
     ]
    }
   ],
   "source": [
    "#MSE mean and standard deviation\n",
    "Norm_mean_50 = average(MSE_Norm_50)\n",
    "print(\"\\nNormalized Mean, 50 epochs:\")\n",
    "print(Norm_mean_50)\n",
    "\n",
    "Norm_std_50 = std_deviation(MSE_Norm_50)\n",
    "print(\"\\nNormalized Standard Deviation, 50 epochs:\")\n",
    "print(Norm_std_50)"
   ]
  },
  {
   "cell_type": "markdown",
   "id": "10144982-9c91-4c9b-9712-1b87402482c7",
   "metadata": {},
   "source": [
    "(C) Repeating Part B but Epochs = 100"
   ]
  },
  {
   "cell_type": "code",
   "execution_count": 17,
   "id": "cccdb3cc-988d-46c6-b94d-7d7aa33b78e4",
   "metadata": {},
   "outputs": [
    {
     "name": "stdout",
     "output_type": "stream",
     "text": [
      "[0.09774761709809196, 0.09570585720524327, 0.10498350083751916, 0.108308278739289, 0.10011483215280931, 0.10265887866621524, 0.12511950056857482, 0.1002692204327276, 0.10093466097668582, 0.10406751742691525, 0.09457133337109506, 0.09835038977365687, 0.11369886107106639, 0.12681655905928127, 0.1004958146888427, 0.08243043346229198, 0.08956667989218575, 0.10008514228038187, 0.09797979206275502, 0.1032391968003166, 0.09241370819144101, 0.10218316719924742, 0.09388618022088151, 0.10316875260590846, 0.09840450215006293, 0.11525927193474553, 0.08577762839174081, 0.09356833769099589, 0.11255837077641369, 0.09313491768246802, 0.10108024616198974, 0.08676020973824648, 0.0888865730813323, 0.09477765209658197, 0.10127015425252545, 0.11362562256341434, 0.09387998913885992, 0.09960928172287112, 0.09951085626429157, 0.08291894731199143, 0.10201695440684408, 0.08681264102659045, 0.09739215403201323, 0.1027561858270733, 0.1100166706597289, 0.10108282101515716, 0.11111309599807083, 0.09076123911696854, 0.10071962335011024, 0.09989724076637747, 0.08401954336827804, 0.09329331927648074, 0.1049684510840037, 0.09719807765969965, 0.11237751416950753, 0.09935497746508237, 0.08677484163688419, 0.0965872773268867, 0.09695200568258654, 0.10030163518584821, 0.10107085730382649, 0.0818250317084759, 0.08643958485148263, 0.08979843338062118, 0.09234442071079908, 0.09337148741116069, 0.0930612216607419, 0.10115055142299181, 0.09586005660431446, 0.08208097583723838, 0.08989634260364118, 0.08864404982466977, 0.0898850259452208, 0.0901184699802839, 0.10303481003925768, 0.08912433320380377, 0.08878614780535427, 0.08120373211658868, 0.11420058389465558, 0.09915335961674276, 0.08621122728603033, 0.08919116310511652, 0.0993853483208971, 0.09798240261502719, 0.09486687359409063, 0.10001763175365963, 0.10304005542437623, 0.08501877222291786, 0.09324877801194453, 0.09270309077697131, 0.09593724729353713, 0.08395269335033025, 0.09753831746427291, 0.09606032586268903, 0.08788998667291748, 0.09715955658066266, 0.10217882449293285, 0.09789706777747408, 0.09916658229565445, 0.08797559676525912]\n"
     ]
    }
   ],
   "source": [
    "#We already have the normalized data set, >see part B<\n",
    "\n",
    "#Use MSE_maker\n",
    "MSE_Normalized_100 = MSE_maker(normalized_features, normalized_target, 100)\n",
    "print(MSE_Normalized_100)"
   ]
  },
  {
   "cell_type": "code",
   "execution_count": 18,
   "id": "a449d320-e21e-47d6-aa48-d128137f0ae1",
   "metadata": {},
   "outputs": [
    {
     "name": "stdout",
     "output_type": "stream",
     "text": [
      "MSE Normalized Mean, 100 epochs:\n",
      "0.09712685722384778\n",
      "\n",
      "MSE Normalized Standard Deviation, 100 epochs:\n",
      "0.008857375824190852\n"
     ]
    }
   ],
   "source": [
    "#Average\n",
    "Norm_mean_100 = average(MSE_Normalized_100)\n",
    "print(\"MSE Normalized Mean, 100 epochs:\")\n",
    "print(Norm_mean_100)\n",
    "\n",
    "#Standard Deviation\n",
    "Norm_std_100 = std_deviation(MSE_Normalized_100)\n",
    "print(\"\\nMSE Normalized Standard Deviation, 100 epochs:\")\n",
    "print(Norm_std_100)"
   ]
  },
  {
   "cell_type": "markdown",
   "id": "89a60529-c8d3-43a0-9f5e-1897faf71201",
   "metadata": {},
   "source": [
    "(D) - Increase the number of hidden layers\n",
    "\n",
    "Part B with new model --> 3 hidden layers, each 10 nodes with ReLU activation"
   ]
  },
  {
   "cell_type": "code",
   "execution_count": 19,
   "id": "39297160-cc60-406f-999c-f5968e739ded",
   "metadata": {},
   "outputs": [],
   "source": [
    "#NEW MODEL\n",
    "def three_layer_model():\n",
    "\n",
    "    model = Sequential() #NN is sequential\n",
    "    #3 hidden layers, has 10 nodes, and input layer contains # of predictors\n",
    "    model.add(Dense(10, activation = 'relu', input_shape = (Num_predictors,)))\n",
    "    model.add(Dense(10, activation = 'relu'))\n",
    "    model.add(Dense(10, activation = 'relu'))\n",
    "    model.add(Dense(1)) #singular output neuron\n",
    "    #Compile Model\n",
    "    model.compile(optimizer = 'adam', loss = 'mean_squared_error')\n",
    "    return model\n",
    "\n",
    "#Initiate the model\n",
    "three_layer_model = three_layer_model()"
   ]
  },
  {
   "cell_type": "code",
   "execution_count": 20,
   "id": "4b5e67db-b647-4198-9360-8a5bdc693eb2",
   "metadata": {},
   "outputs": [
    {
     "name": "stdout",
     "output_type": "stream",
     "text": [
      "Epoch 1/50\n",
      "721/721 [==============================] - 0s 422us/step - loss: 1633.2695\n",
      "Epoch 2/50\n",
      "721/721 [==============================] - 0s 112us/step - loss: 701.1755\n",
      "Epoch 3/50\n",
      "721/721 [==============================] - 0s 130us/step - loss: 405.1913\n",
      "Epoch 4/50\n",
      "721/721 [==============================] - 0s 117us/step - loss: 294.9600\n",
      "Epoch 5/50\n",
      "721/721 [==============================] - 0s 108us/step - loss: 238.0603\n",
      "Epoch 6/50\n",
      "721/721 [==============================] - 0s 105us/step - loss: 203.5495\n",
      "Epoch 7/50\n",
      "721/721 [==============================] - 0s 87us/step - loss: 180.7420\n",
      "Epoch 8/50\n",
      "721/721 [==============================] - 0s 105us/step - loss: 160.5788\n",
      "Epoch 9/50\n",
      "721/721 [==============================] - 0s 86us/step - loss: 149.0761\n",
      "Epoch 10/50\n",
      "721/721 [==============================] - 0s 87us/step - loss: 140.9503\n",
      "Epoch 11/50\n",
      "721/721 [==============================] - 0s 82us/step - loss: 140.3741\n",
      "Epoch 12/50\n",
      "721/721 [==============================] - 0s 86us/step - loss: 131.2991\n",
      "Epoch 13/50\n",
      "721/721 [==============================] - 0s 87us/step - loss: 132.2332\n",
      "Epoch 14/50\n",
      "721/721 [==============================] - 0s 87us/step - loss: 129.1908\n",
      "Epoch 15/50\n",
      "721/721 [==============================] - 0s 105us/step - loss: 128.8714\n",
      "Epoch 16/50\n",
      "721/721 [==============================] - 0s 85us/step - loss: 126.0201\n",
      "Epoch 17/50\n",
      "721/721 [==============================] - 0s 86us/step - loss: 127.1798\n",
      "Epoch 18/50\n",
      "721/721 [==============================] - 0s 100us/step - loss: 124.4837\n",
      "Epoch 19/50\n",
      "721/721 [==============================] - 0s 82us/step - loss: 137.0497\n",
      "Epoch 20/50\n",
      "721/721 [==============================] - 0s 68us/step - loss: 129.3952\n",
      "Epoch 21/50\n",
      "721/721 [==============================] - 0s 97us/step - loss: 123.4626\n",
      "Epoch 22/50\n",
      "721/721 [==============================] - 0s 82us/step - loss: 125.5034\n",
      "Epoch 23/50\n",
      "721/721 [==============================] - 0s 82us/step - loss: 123.2857\n",
      "Epoch 24/50\n",
      "721/721 [==============================] - 0s 69us/step - loss: 122.5649\n",
      "Epoch 25/50\n",
      "721/721 [==============================] - 0s 81us/step - loss: 123.4185\n",
      "Epoch 26/50\n",
      "721/721 [==============================] - 0s 81us/step - loss: 123.3016\n",
      "Epoch 27/50\n",
      "721/721 [==============================] - 0s 79us/step - loss: 124.8954\n",
      "Epoch 28/50\n",
      "721/721 [==============================] - 0s 80us/step - loss: 121.0116\n",
      "Epoch 29/50\n",
      "721/721 [==============================] - 0s 84us/step - loss: 119.8478\n",
      "Epoch 30/50\n",
      "721/721 [==============================] - 0s 81us/step - loss: 120.3681\n",
      "Epoch 31/50\n",
      "721/721 [==============================] - 0s 82us/step - loss: 120.5655\n",
      "Epoch 32/50\n",
      "721/721 [==============================] - 0s 82us/step - loss: 117.9317\n",
      "Epoch 33/50\n",
      "721/721 [==============================] - 0s 82us/step - loss: 121.0123\n",
      "Epoch 34/50\n",
      "721/721 [==============================] - 0s 82us/step - loss: 121.0150\n",
      "Epoch 35/50\n",
      "721/721 [==============================] - 0s 82us/step - loss: 117.1347\n",
      "Epoch 36/50\n",
      "721/721 [==============================] - 0s 88us/step - loss: 116.5333\n",
      "Epoch 37/50\n",
      "721/721 [==============================] - 0s 85us/step - loss: 116.4251\n",
      "Epoch 38/50\n",
      "721/721 [==============================] - 0s 75us/step - loss: 114.9187\n",
      "Epoch 39/50\n",
      "721/721 [==============================] - 0s 84us/step - loss: 117.8456\n",
      "Epoch 40/50\n",
      "721/721 [==============================] - 0s 82us/step - loss: 129.7648\n",
      "Epoch 41/50\n",
      "721/721 [==============================] - 0s 79us/step - loss: 113.4420\n",
      "Epoch 42/50\n",
      "721/721 [==============================] - 0s 82us/step - loss: 114.8448\n",
      "Epoch 43/50\n",
      "721/721 [==============================] - 0s 81us/step - loss: 113.5603\n",
      "Epoch 44/50\n",
      "721/721 [==============================] - 0s 81us/step - loss: 111.8712\n",
      "Epoch 45/50\n",
      "721/721 [==============================] - 0s 81us/step - loss: 111.1960\n",
      "Epoch 46/50\n",
      "721/721 [==============================] - 0s 85us/step - loss: 114.1582\n",
      "Epoch 47/50\n",
      "721/721 [==============================] - 0s 80us/step - loss: 118.1784\n",
      "Epoch 48/50\n",
      "721/721 [==============================] - 0s 83us/step - loss: 113.8929\n",
      "Epoch 49/50\n",
      "721/721 [==============================] - 0s 80us/step - loss: 109.5658\n",
      "Epoch 50/50\n",
      "721/721 [==============================] - 0s 81us/step - loss: 109.4838\n",
      "\n",
      "\n"
     ]
    }
   ],
   "source": [
    "#Train and Predict\n",
    "three_layer_model.fit(X_train, y_train, epochs = 50)\n",
    "three_layer_model.predict(X_test)\n",
    "print(\"\\n\")"
   ]
  },
  {
   "cell_type": "code",
   "execution_count": 21,
   "id": "68bff635-e015-4271-8266-bd2ecaba2dcc",
   "metadata": {},
   "outputs": [
    {
     "name": "stdout",
     "output_type": "stream",
     "text": [
      "[0.09647071362417191, 0.09699032343656168, 0.08098676705750275, 0.09411352738228675, 0.0895106264175656, 0.0980888289235332, 0.11547651588737622, 0.07955606271287291, 0.10001747961076508, 0.08843402862313639, 0.08474789824377081, 0.08581199689301855, 0.10188729548798307, 0.11713687487329345, 0.09356577587068013, 0.07530765485485048, 0.07785541443364183, 0.09832344362326079, 0.09357435715990305, 0.10063473820516788, 0.08503912176813214, 0.09096012904977031, 0.08406351525695027, 0.09037111635508707, 0.09460699371538324, 0.10994916068899364, 0.08994038561598583, 0.09017738402766697, 0.10301062807146852, 0.08954577865132371, 0.09755174140770421, 0.08147341429293402, 0.08170143534347517, 0.09595809898813878, 0.09824438683557792, 0.11130203204132201, 0.09174582738592499, 0.09870722959022565, 0.0915148907396362, 0.07727385610498091, 0.09876167658602818, 0.08194421103951956, 0.0945110303459231, 0.09596429627495713, 0.11171049155349634, 0.08924892413163278, 0.10321299345967554, 0.08345656407422043, 0.09715880352087, 0.09696498353268929]\n"
     ]
    }
   ],
   "source": [
    "#Make an MSE List of three layer model, train test split is in MSE_maker function\n",
    "MSE_3_Layer = MSE_maker(normalized_features, normalized_target,50)\n",
    "\n",
    "print(MSE_3_Layer)"
   ]
  },
  {
   "cell_type": "code",
   "execution_count": 23,
   "id": "527b35ca-1e01-4e36-b3d7-6a38ce815b0f",
   "metadata": {},
   "outputs": [
    {
     "name": "stdout",
     "output_type": "stream",
     "text": [
      "Average 3 Layer:\n",
      "0.09349122847542071\n",
      "Standard Deviation 3 Layer:\n",
      "0.009726209944432867\n"
     ]
    }
   ],
   "source": [
    "#Average of MSE_3_Layer\n",
    "print(\"Average 3 Layer:\")\n",
    "print(average(MSE_3_Layer))\n",
    "\n",
    "#Standard Deviation\n",
    "print(\"Standard Deviation 3 Layer:\")\n",
    "print(std_deviation(MSE_3_Layer))"
   ]
  },
  {
   "cell_type": "code",
   "execution_count": null,
   "id": "80063c1c-eae5-4200-b375-ebab3a66365d",
   "metadata": {},
   "outputs": [],
   "source": []
  }
 ],
 "metadata": {
  "kernelspec": {
   "display_name": "Python",
   "language": "python",
   "name": "conda-env-python-py"
  },
  "language_info": {
   "codemirror_mode": {
    "name": "ipython",
    "version": 3
   },
   "file_extension": ".py",
   "mimetype": "text/x-python",
   "name": "python",
   "nbconvert_exporter": "python",
   "pygments_lexer": "ipython3",
   "version": "3.7.12"
  }
 },
 "nbformat": 4,
 "nbformat_minor": 5
}
